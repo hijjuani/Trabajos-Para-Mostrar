{
    "cells": [
        {
            "cell_type": "code",
            "execution_count": 1,
            "metadata": {},
            "outputs": [
                {
                    "data": {
                        "text/plain": [
                            "'\\nEl objetivo es calcular AUC:\\nLa curva ROC grafica: Tasa de verdaderos positivos (sensibilidad) vs. Tasa de falsos positivos.\\nAUC: área bajo la curva ROC. Mide qué tan bien el modelo separa la clase positiva de la negativa.\\nCuanto más cerca de 1.0, mejor. Un modelo aleatorio tiene AUC ≈ 0.5\\n\\nLuego, se buscará el valor de n_estimators para el cual el OOB error es menor en un RandomForest.\\n\\nPor último, se verá la condición del mínimo de muestras que debe haber en una hoja del arbol:\\nmin_samples_leaf\\n'"
                        ]
                    },
                    "execution_count": 1,
                    "metadata": {},
                    "output_type": "execute_result"
                }
            ],
            "source": [
                "# Import necessary libraries\n",
                "import numpy as np\n",
                "import pandas as pd\n",
                "import matplotlib.pyplot as plt\n",
                "from sklearn.metrics import roc_auc_score\n",
                "from sklearn.tree import DecisionTreeClassifier\n",
                "from sklearn.ensemble import RandomForestClassifier\n",
                "from sklearn.model_selection import train_test_split\n",
                "from sklearn.inspection import permutation_importance\n",
                "%matplotlib inline\n",
                "\n",
                "\"\"\"\n",
                "El objetivo es calcular AUC:\n",
                "La curva ROC grafica: Tasa de verdaderos positivos (sensibilidad) vs. Tasa de falsos positivos.\n",
                "AUC: área bajo la curva ROC. Mide qué tan bien el modelo separa la clase positiva de la negativa.\n",
                "Cuanto más cerca de 1.0, mejor. Un modelo aleatorio tiene AUC ≈ 0.5\n",
                "\n",
                "Luego, se buscará el valor de n_estimators para el cual el OOB error es menor en un RandomForest.\n",
                "\n",
                "Por último, se verá la condición del mínimo de muestras que debe haber en una hoja del arbol:\n",
                "min_samples_leaf\n",
                "\"\"\""
            ]
        },
        {
            "cell_type": "code",
            "execution_count": 2,
            "metadata": {},
            "outputs": [
                {
                    "data": {
                        "text/html": [
                            "<div>\n",
                            "<style scoped>\n",
                            "    .dataframe tbody tr th:only-of-type {\n",
                            "        vertical-align: middle;\n",
                            "    }\n",
                            "\n",
                            "    .dataframe tbody tr th {\n",
                            "        vertical-align: top;\n",
                            "    }\n",
                            "\n",
                            "    .dataframe thead th {\n",
                            "        text-align: right;\n",
                            "    }\n",
                            "</style>\n",
                            "<table border=\"1\" class=\"dataframe\">\n",
                            "  <thead>\n",
                            "    <tr style=\"text-align: right;\">\n",
                            "      <th></th>\n",
                            "      <th>Pregnancies</th>\n",
                            "      <th>Glucose</th>\n",
                            "      <th>BloodPressure</th>\n",
                            "      <th>SkinThickness</th>\n",
                            "      <th>Insulin</th>\n",
                            "      <th>BMI</th>\n",
                            "      <th>DiabetesPedigreeFunction</th>\n",
                            "      <th>Age</th>\n",
                            "      <th>Outcome</th>\n",
                            "    </tr>\n",
                            "  </thead>\n",
                            "  <tbody>\n",
                            "    <tr>\n",
                            "      <th>0</th>\n",
                            "      <td>6</td>\n",
                            "      <td>148</td>\n",
                            "      <td>72</td>\n",
                            "      <td>35</td>\n",
                            "      <td>0</td>\n",
                            "      <td>33.6</td>\n",
                            "      <td>0.627</td>\n",
                            "      <td>50</td>\n",
                            "      <td>1</td>\n",
                            "    </tr>\n",
                            "    <tr>\n",
                            "      <th>1</th>\n",
                            "      <td>1</td>\n",
                            "      <td>85</td>\n",
                            "      <td>66</td>\n",
                            "      <td>29</td>\n",
                            "      <td>0</td>\n",
                            "      <td>26.6</td>\n",
                            "      <td>0.351</td>\n",
                            "      <td>31</td>\n",
                            "      <td>0</td>\n",
                            "    </tr>\n",
                            "    <tr>\n",
                            "      <th>2</th>\n",
                            "      <td>8</td>\n",
                            "      <td>183</td>\n",
                            "      <td>64</td>\n",
                            "      <td>0</td>\n",
                            "      <td>0</td>\n",
                            "      <td>23.3</td>\n",
                            "      <td>0.672</td>\n",
                            "      <td>32</td>\n",
                            "      <td>1</td>\n",
                            "    </tr>\n",
                            "    <tr>\n",
                            "      <th>3</th>\n",
                            "      <td>1</td>\n",
                            "      <td>89</td>\n",
                            "      <td>66</td>\n",
                            "      <td>23</td>\n",
                            "      <td>94</td>\n",
                            "      <td>28.1</td>\n",
                            "      <td>0.167</td>\n",
                            "      <td>21</td>\n",
                            "      <td>0</td>\n",
                            "    </tr>\n",
                            "    <tr>\n",
                            "      <th>4</th>\n",
                            "      <td>0</td>\n",
                            "      <td>137</td>\n",
                            "      <td>40</td>\n",
                            "      <td>35</td>\n",
                            "      <td>168</td>\n",
                            "      <td>43.1</td>\n",
                            "      <td>2.288</td>\n",
                            "      <td>33</td>\n",
                            "      <td>1</td>\n",
                            "    </tr>\n",
                            "  </tbody>\n",
                            "</table>\n",
                            "</div>"
                        ],
                        "text/plain": [
                            "   Pregnancies  Glucose  BloodPressure  SkinThickness  Insulin   BMI  \\\n",
                            "0            6      148             72             35        0  33.6   \n",
                            "1            1       85             66             29        0  26.6   \n",
                            "2            8      183             64              0        0  23.3   \n",
                            "3            1       89             66             23       94  28.1   \n",
                            "4            0      137             40             35      168  43.1   \n",
                            "\n",
                            "   DiabetesPedigreeFunction  Age  Outcome  \n",
                            "0                     0.627   50        1  \n",
                            "1                     0.351   31        0  \n",
                            "2                     0.672   32        1  \n",
                            "3                     0.167   21        0  \n",
                            "4                     2.288   33        1  "
                        ]
                    },
                    "execution_count": 2,
                    "metadata": {},
                    "output_type": "execute_result"
                }
            ],
            "source": [
                "# Read the dataset and take a quick look\n",
                "df = pd.read_csv(\"diabetes.csv\")\n",
                "df.head()\n"
            ]
        },
        {
            "cell_type": "code",
            "execution_count": 3,
            "metadata": {},
            "outputs": [],
            "source": [
                "# Assign the predictor and response variables.\n",
                "# Outcome is the response and all the other columns are the predictors\n",
                "X = df.drop(\"Outcome\", axis=1)\n",
                "y = df['Outcome']\n"
            ]
        },
        {
            "cell_type": "code",
            "execution_count": 4,
            "metadata": {},
            "outputs": [],
            "source": [
                "# Set the seed for reproducibility of results\n",
                "seed = 0\n",
                "\n",
                "# Split the data into train and test sets with the mentioned seed\n",
                "X_train, X_test, y_train, y_test = train_test_split(X, y, \n",
                "                                                    test_size=0.33, \n",
                "                                                    random_state=seed)\n"
            ]
        },
        {
            "attachments": {},
            "cell_type": "markdown",
            "metadata": {},
            "source": [
                "### Vanila random forest\n",
                "\n",
                "Start by training a Random Forest Classifier using the default parameters and calculate the Receiver Operating Characteristic Area Under the Curve (ROC AUC). As we know, this metric is better than accuracy for a classification problem, since it covers the case of an imbalanced dataset. "
            ]
        },
        {
            "cell_type": "code",
            "execution_count": 5,
            "metadata": {},
            "outputs": [
                {
                    "name": "stdout",
                    "output_type": "stream",
                    "text": [
                        "Plain RF AUC on test set:0.83\n"
                    ]
                }
            ],
            "source": [
                "### edTest(test_vanilla) ### \n",
                "\n",
                "\"\"\"\n",
                "predict devuelve probabilidad 0 o 1\n",
                "\n",
                "predict_proba: \n",
                "devuelve la probabilidad continua de un valor de pertenecer a cada clase en una matriz de probabilidades con dos columnas:\n",
                "Columna 0 → probabilidad de clase 0 (no diabetes)\n",
                "Columna 1 → probabilidad de clase 1 (diabetes) --> se usa este.\n",
                "[:, 1] selecciona la segunda columna → probabilidad de clase 1 (caso positivo).\n",
                "\n",
                "Explicación: le hago fit a un modelo RandomForest y calculo la probabilidad de cada X_train de tener diabetes.\n",
                "\"\"\"\n",
                "\n",
                "# Define a Random Forest classifier with randon_state = seed\n",
                "vanilla_rf = RandomForestClassifier(random_state=seed) \n",
                "\n",
                "# Fit the model on the train data\n",
                "vanilla_rf.fit(X_train, y_train)\n",
                "\n",
                "# Calculate AUC/ROC on the test set\n",
                "y_proba = vanilla_rf.predict_proba(X_test)[:, 1] \n",
                "auc = np.round(roc_auc_score(y_test, y_proba),2)\n",
                "print(f'Plain RF AUC on test set:{auc}')\n"
            ]
        },
        {
            "cell_type": "code",
            "execution_count": 6,
            "metadata": {},
            "outputs": [
                {
                    "data": {
                        "text/plain": [
                            "(514, 8)"
                        ]
                    },
                    "execution_count": 6,
                    "metadata": {},
                    "output_type": "execute_result"
                }
            ],
            "source": [
                "# Number of samples and features\n",
                "num_features = X_train.shape[1]\n",
                "num_samples = X_train.shape[0]\n",
                "num_samples, num_features\n"
            ]
        },
        {
            "attachments": {},
            "cell_type": "markdown",
            "metadata": {},
            "source": [
                "### 1. Number of trees, `num_iterators`, default = 100\n",
                "\n",
                "The number of trees needs to be large enough for the $oob$ error to stabilize in its lowest possible value. Plot the $oob$ error of a random forest as a function of the number of trees. Trees in a RF are called `estimators`. A good start is 10 times the number of features, however, adjusting other hyperparameters will influence the optimum number of trees. "
            ]
        },
        {
            "cell_type": "code",
            "execution_count": 7,
            "metadata": {},
            "outputs": [],
            "source": [
                "\"\"\"\n",
                "Queremos encontrar cuántos árboles (n_estimators) necesita el modelo para que el error OOB\n",
                "se estabilice en su valor más bajo. \n",
                "\n",
                "Esto nos ayuda a evitar usar más árboles de los necesarios, ahorrando tiempo y recursos.\n",
                "\n",
                "oob_error devuelve un número entre 0 y 1 que representa la exactitud del modelo sobre esas muestras OOB.\n",
                "error_rate = 1 - exactitud\n",
                "\"\"\"\n",
                "\n",
                "#%%time\n",
                "from collections import OrderedDict\n",
                "clf = RandomForestClassifier(warm_start=True,       # Agrega árboles progresivamente sin reiniciar el modelo.\n",
                "                               oob_score=True,      # Activa el cálculo oob para estimar el error.\n",
                "                               min_samples_leaf=40, # Cada hoja debe tener al menos 40 muestras.\n",
                "                               max_depth = 10,      # Los árboles no pueden crecer más de 10 niveles.\n",
                "                               random_state=seed)\n",
                "\n",
                "error_rate = {}\n",
                "\n",
                "# Range of `n_estimators` values to explore.\n",
                "min_estimators = 150\n",
                "max_estimators = 500\n",
                "\n",
                "for i in range(min_estimators, max_estimators + 1):\n",
                "    clf.set_params(n_estimators=i)                  # Modifica hiperparámetros de clf (en este caso, n_estimators).\n",
                "    clf.fit(X_train.values, y_train.values)         # Values pasa a array de numpy (no es necesario).\n",
                "\n",
                "    # Record the OOB error for each `n_estimators=i` setting.\n",
                "    oob_error = 1 - clf.oob_score_\n",
                "    error_rate[i] = oob_error                       # Key: nro. iteración; Value: oob_error\n",
                "    "
            ]
        },
        {
            "cell_type": "code",
            "execution_count": 8,
            "metadata": {
                "scrolled": true
            },
            "outputs": [
                {
                    "data": {
                        "image/png": "[encoded data removed]",
                        "text/plain": [
                            "<Figure size 640x480 with 1 Axes>"
                        ]
                    },
                    "metadata": {},
                    "output_type": "display_data"
                },
                {
                    "name": "stdout",
                    "output_type": "stream",
                    "text": [
                        "CPU times: total: 188 ms\n",
                        "Wall time: 227 ms\n"
                    ]
                }
            ],
            "source": [
                "%%time\n",
                "# Generate the \"OOB error rate\" vs. \"n_estimators\" plot.\n",
                "# OOB error rate = num_missclassified/total observations (%)\\\n",
                "xs = []\n",
                "ys = []\n",
                "for label, clf_err in error_rate.items():\n",
                "    xs.append(label)                            # label: clave de error_rate\n",
                "    ys.append(clf_err)                          # clf_err: valor de error_rate\n",
                "plt.plot(xs, ys)\n",
                "plt.xlim(min_estimators, max_estimators)\n",
                "plt.xlabel(\"n_estimators\")\n",
                "plt.ylabel(\"OOB error rate\")\n",
                "plt.show();\n"
            ]
        },
        {
            "attachments": {},
            "cell_type": "markdown",
            "metadata": {},
            "source": [
                "### 2. `min_samples_leaf`, default = 1\n",
                "\n",
                "The minimum number of samples required to be at a leaf node. A split point at any depth will only be considered if it leaves at least min_samples_leaf training samples in each of the left and right branches. This may have the effect of smoothing the model, especially in regression. We will plot various values of the `min_samples_leaf` with `num_iterators`. "
            ]
        },
        {
            "cell_type": "code",
            "execution_count": 9,
            "metadata": {
                "scrolled": true
            },
            "outputs": [
                {
                    "data": {
                        "image/png": "[encoded data removed]",
                        "text/plain": [
                            "<Figure size 640x480 with 1 Axes>"
                        ]
                    },
                    "metadata": {},
                    "output_type": "display_data"
                },
                {
                    "name": "stdout",
                    "output_type": "stream",
                    "text": [
                        "CPU times: total: 1min 29s\n",
                        "Wall time: 1min 29s\n"
                    ]
                }
            ],
            "source": [
                "%%time\n",
                "\n",
                "\"\"\"\n",
                "Hago lo mismo pero para un arreglo de dos árboles con distinto min_samples_leaf.\n",
                "\"\"\"\n",
                "\n",
                "from collections import OrderedDict\n",
                "ensemble_clfs = [\n",
                "    (1,\n",
                "        RandomForestClassifier(warm_start=True, \n",
                "                               min_samples_leaf=1,\n",
                "                               oob_score=True,\n",
                "                               max_depth = 10,\n",
                "                               random_state=seed)),\n",
                "    (5,\n",
                "        RandomForestClassifier(warm_start=True, \n",
                "                               min_samples_leaf=5,\n",
                "                               oob_score=True,\n",
                "                               max_depth = 10,\n",
                "                               random_state=seed))\n",
                "]\n",
                "\n",
                "# Map a label (the value of `min_samples_leaf`) to a list of (model, oob error) tuples.\n",
                "error_rate = OrderedDict((label, []) for label, _ in ensemble_clfs)\n",
                "\n",
                "min_estimators = 80\n",
                "max_estimators = 500\n",
                "\n",
                "for label, clf in ensemble_clfs:\n",
                "    for i in range(min_estimators, max_estimators + 1):\n",
                "        clf.set_params(n_estimators=i) \n",
                "        clf.fit(X_train.values, y_train.values)\n",
                "\n",
                "        # Record the OOB error for each model. Error is 1 - oob_score\n",
                "        # oob_score: score of the training dataset obtained using an \n",
                "        # out-of-bag estimate.\n",
                "        # OOB error rate is % of num_missclassified/total observations\n",
                "        oob_error = 1 - clf.oob_score_\n",
                "        error_rate[label].append((i, oob_error))\n",
                "\n",
                "\"\"\"\n",
                "label es la clave del diccionario (1 o 5, según min_samples_leaf)\n",
                "clf_err es el valor asociado, que es una lista de tuplas con (n_estimators, oob_error)\n",
                "Ej: clf_err = [(80, 0.22), (81, 0.218), (82, 0.215)]\n",
                "\"\"\"\n",
                "\n",
                "for label, clf_err in error_rate.items():\n",
                "    xs, ys = zip(*clf_err)                                  # Desempaqueta los valores.\n",
                "    plt.plot(xs, ys, label=f'min_samples_leaf={label}')\n",
                "\n",
                "plt.xlim(min_estimators, max_estimators)\n",
                "plt.xlabel(\"n_estimators\")\n",
                "plt.ylabel(\"OOB error rate\")\n",
                "plt.legend(loc=\"upper right\")\n",
                "plt.show();\n"
            ]
        },
        {
            "cell_type": "code",
            "execution_count": 10,
            "metadata": {},
            "outputs": [
                {
                    "name": "stdout",
                    "output_type": "stream",
                    "text": [
                        "Optimum num of estimators: 223 \n",
                        "min_samples_leaf: 5\n"
                    ]
                },
                {
                    "data": {
                        "text/plain": [
                            "'\\nPara cada árbol (label) dentro de la lista: \\n    Asigno a err el error correspondiente hallado y su n_estimators. \\n    A ese árbol lo guardo en best_leaf. \\nEntonces, de la lista de árboles con diferentes min_samples_leaf, encontré el que tiene menos error.\\n'"
                        ]
                    },
                    "execution_count": 10,
                    "metadata": {},
                    "output_type": "execute_result"
                }
            ],
            "source": [
                "\"\"\"\n",
                "Este bloque busca encontrar la mejor combinación de hiperparámetros \n",
                "(n_estimators y min_samples_leaf) que minimiza el error OOB.\n",
                "\n",
                "n[0] → número de árboles (n_estimators)\n",
                "n[1] → error OOB\n",
                "La función lambda n: (n[1], -n[0]) transforma cada tupla en un par de comparación.\n",
                "Da vuelta los índices de cada tupla para luego poder ordenar OOB con min().\n",
                "\n",
                "Si dos OOB son iguales, se utiliza el que más árboles tenga.\n",
                "Porque si tengo el mismo error usando más árboles, esa situación va a ser peor.\n",
                "\n",
                "Se utiliza -n para cambiar de signo cada valor y comparar por cantidad de árboles.\n",
                "Entonces, el mínimo va a ser el que más negativo (es decir el que tenga más árboles en valor absoluto).\n",
                "\"\"\"\n",
                "\n",
                "err = 100\n",
                "best_num_estimators = 0\n",
                "for label, clf_err in error_rate.items():\n",
                "    num_estimators, error = min(clf_err, key=lambda n: (n[1], -n[0]))\n",
                "    if error<err: err=error; best_num_estimators = num_estimators; best_leaf = label\n",
                "\n",
                "print(f'Optimum num of estimators: {best_num_estimators} \\nmin_samples_leaf: {best_leaf}')\n",
                "\n",
                "\"\"\"\n",
                "Para cada árbol (label) dentro de la lista: \n",
                "    Asigno a err el error correspondiente hallado y su n_estimators. \n",
                "    A ese árbol lo guardo en best_leaf. \n",
                "Entonces, de la lista de árboles con diferentes min_samples_leaf, encontré el que tiene menos error.\n",
                "\"\"\"\n"
            ]
        },
        {
            "attachments": {},
            "cell_type": "markdown",
            "metadata": {},
            "source": [
                "Re-train the Random Forest Classifier using the new values for the parameters and calculate the AUC/ROC. Include another parameter, the `max_features`, the number of features to consider when looking for the best split. "
            ]
        },
        {
            "cell_type": "code",
            "execution_count": 11,
            "metadata": {},
            "outputs": [
                {
                    "name": "stdout",
                    "output_type": "stream",
                    "text": [
                        "Educated RF AUC on test set:0.84\n"
                    ]
                }
            ],
            "source": [
                "### edTest(test_estimators) ### \n",
                "\n",
                "\"\"\"\n",
                "Se usan los hiperparámetros óptimos encontrados (best_num_estimators, best_leaf) \n",
                "y se agrega max_features='sqrt' para controlar cuántas variables se consideran en cada split.\n",
                "\"\"\"\n",
                "\n",
                "estimators_rf = RandomForestClassifier(n_estimators= best_num_estimators,\n",
                "                                    random_state=seed,\n",
                "                                    oob_score=True,\n",
                "                                    min_samples_leaf=best_leaf,\n",
                "                                    max_features='sqrt') \n",
                "\n",
                "# Fit the model on the train data\n",
                "estimators_rf.fit(X_train, y_train);\n",
                "\n",
                "# Calculate AUC/ROC on the test set\n",
                "y_proba = estimators_rf.predict_proba(X_test)[:, 1]\n",
                "\n",
                "estimators_auc = np.round(roc_auc_score(y_test, y_proba),2)\n",
                "print(f'Educated RF AUC on test set:{estimators_auc}')\n"
            ]
        },
        {
            "attachments": {},
            "cell_type": "markdown",
            "metadata": {},
            "source": [
                "Look at the model's parameters"
            ]
        },
        {
            "cell_type": "code",
            "execution_count": 12,
            "metadata": {},
            "outputs": [
                {
                    "data": {
                        "text/plain": [
                            "{'bootstrap': True,\n",
                            " 'ccp_alpha': 0.0,\n",
                            " 'class_weight': None,\n",
                            " 'criterion': 'gini',\n",
                            " 'max_depth': None,\n",
                            " 'max_features': 'sqrt',\n",
                            " 'max_leaf_nodes': None,\n",
                            " 'max_samples': None,\n",
                            " 'min_impurity_decrease': 0.0,\n",
                            " 'min_samples_leaf': 5,\n",
                            " 'min_samples_split': 2,\n",
                            " 'min_weight_fraction_leaf': 0.0,\n",
                            " 'monotonic_cst': None,\n",
                            " 'n_estimators': 223,\n",
                            " 'n_jobs': None,\n",
                            " 'oob_score': True,\n",
                            " 'random_state': 0,\n",
                            " 'verbose': 0,\n",
                            " 'warm_start': False}"
                        ]
                    },
                    "execution_count": 12,
                    "metadata": {},
                    "output_type": "execute_result"
                }
            ],
            "source": [
                "estimators_rf.get_params()\n"
            ]
        },
        {
            "attachments": {},
            "cell_type": "markdown",
            "metadata": {},
            "source": [
                "### 3. Performing a cross-validation search\n",
                "\n",
                "After we have some idea of the range of optimum values for the number of trees and maybe a couple of other parameters, and have enough computing power, you may perform an exhaustive search over other parameter values."
            ]
        },
        {
            "cell_type": "code",
            "execution_count": 13,
            "metadata": {},
            "outputs": [
                {
                    "name": "stdout",
                    "output_type": "stream",
                    "text": [
                        "{'bootstrap': True, 'ccp_alpha': 0.0, 'class_weight': None, 'criterion': 'gini', 'max_depth': None, 'max_features': 'sqrt', 'max_leaf_nodes': None, 'max_samples': None, 'min_impurity_decrease': 0.0, 'min_samples_leaf': 5, 'min_samples_split': 2, 'min_weight_fraction_leaf': 0.0, 'monotonic_cst': None, 'n_estimators': 223, 'n_jobs': -1, 'oob_score': True, 'random_state': 0, 'verbose': 0, 'warm_start': False}\n",
                        "GridSearchCV RF AUC on test set:0.84\n",
                        "CPU times: total: 719 ms\n",
                        "Wall time: 6.16 s\n"
                    ]
                }
            ],
            "source": [
                "%%time\n",
                "from sklearn.model_selection import GridSearchCV\n",
                "\n",
                "do_grid_search = True\n",
                "\n",
                "if do_grid_search:\n",
                "    rf = RandomForestClassifier(n_jobs=-1,\n",
                "                               n_estimators= best_num_estimators,\n",
                "                               oob_score=True,\n",
                "                               max_features = 'sqrt',\n",
                "                               min_samples_leaf=best_leaf,\n",
                "                               random_state=seed)\n",
                "\n",
                "    param_grid = {\n",
                "        'min_samples_split': [2,5]}\n",
                "    \n",
                "    scoring = {'AUC': 'roc_auc'}\n",
                "    \n",
                "    grid_search = GridSearchCV(rf, \n",
                "                               param_grid, \n",
                "                               scoring=scoring, \n",
                "                               refit='AUC', \n",
                "                               return_train_score=True, \n",
                "                               n_jobs=-1)\n",
                "    \n",
                "    results = grid_search.fit(X_train, y_train)\n",
                "    print(results.best_estimator_.get_params())\n",
                "    best_rf = results.best_estimator_\n",
                "    # Calculate AUC/ROC\n",
                "    y_proba = best_rf.predict_proba(X_test)[:, 1]\n",
                "    auc = np.round(roc_auc_score(y_test, y_proba),2)\n",
                "    print(f'GridSearchCV RF AUC on test set:{auc}')\n",
                "    "
            ]
        }
    ],
    "metadata": {
        "kernelspec": {
            "display_name": "Python 3",
            "language": "python",
            "name": "python3"
        },
        "language_info": {
            "codemirror_mode": {
                "name": "ipython",
                "version": 3
            },
            "file_extension": ".py",
            "mimetype": "text/x-python",
            "name": "python",
            "nbconvert_exporter": "python",
            "pygments_lexer": "ipython3",
            "version": "3.11.1"
        }
    },
    "nbformat": 4,
    "nbformat_minor": 1
}
